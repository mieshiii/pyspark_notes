{
 "cells": [
  {
   "cell_type": "code",
   "execution_count": 2,
   "metadata": {},
   "outputs": [],
   "source": [
    "from pyspark.sql import SparkSession"
   ]
  },
  {
   "cell_type": "code",
   "execution_count": 3,
   "metadata": {},
   "outputs": [
    {
     "name": "stdout",
     "output_type": "stream",
     "text": [
      "23/03/14 22:16:04 WARN Utils: Your hostname, mieshiii resolves to a loopback address: 127.0.1.1; using 192.168.0.103 instead (on interface wlp3s0)\n",
      "23/03/14 22:16:04 WARN Utils: Set SPARK_LOCAL_IP if you need to bind to another address\n"
     ]
    },
    {
     "name": "stderr",
     "output_type": "stream",
     "text": [
      "Setting default log level to \"WARN\".\n",
      "To adjust logging level use sc.setLogLevel(newLevel). For SparkR, use setLogLevel(newLevel).\n"
     ]
    },
    {
     "name": "stdout",
     "output_type": "stream",
     "text": [
      "23/03/14 22:16:04 WARN NativeCodeLoader: Unable to load native-hadoop library for your platform... using builtin-java classes where applicable\n",
      "23/03/14 22:16:05 WARN Utils: Service 'SparkUI' could not bind on port 4040. Attempting port 4041.\n",
      "+----------------+----+----------+------+\n",
      "|            Name| Age|Experience|Salary|\n",
      "+----------------+----+----------+------+\n",
      "|    Tina Coleman|  43|        10| 64116|\n",
      "|   Walter French|  55|        10| 64294|\n",
      "|  Herbert Blaese|  42|         7| 50868|\n",
      "|     Safia Ayala|  28|         3| 52033|\n",
      "|  Keeley Bennett|  25|         1| 52033|\n",
      "|  Caitlyn Hebert|  30|         5| 55252|\n",
      "|Sebastian Hooper|null|        10| 56510|\n",
      "| Dalton Matthams|  38|         5| 55617|\n",
      "|   Laura O'Moore|  40|        10| 50692|\n",
      "| Matthew Warner |null|      null| 59401|\n",
      "|            null|  32|         6| 54142|\n",
      "+----------------+----+----------+------+\n",
      "\n"
     ]
    }
   ],
   "source": [
    "spark=SparkSession.builder.appName('dataframe').getOrCreate()\n",
    "df_pyspark=spark.read.csv('hr_data.csv',header=True,inferSchema=True)\n",
    "df_pyspark.show()"
   ]
  },
  {
   "cell_type": "code",
   "execution_count": null,
   "metadata": {},
   "outputs": [],
   "source": []
  }
 ],
 "metadata": {
  "kernelspec": {
   "display_name": "venv",
   "language": "python",
   "name": "python3"
  },
  "language_info": {
   "codemirror_mode": {
    "name": "ipython",
    "version": 3
   },
   "file_extension": ".py",
   "mimetype": "text/x-python",
   "name": "python",
   "nbconvert_exporter": "python",
   "pygments_lexer": "ipython3",
   "version": "3.10.6"
  },
  "orig_nbformat": 4
 },
 "nbformat": 4,
 "nbformat_minor": 2
}
