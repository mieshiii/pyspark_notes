{
 "cells": [
  {
   "cell_type": "code",
   "execution_count": 2,
   "metadata": {},
   "outputs": [
    {
     "name": "stdout",
     "output_type": "stream",
     "text": [
      "Note: you may need to restart the kernel to use updated packages.\n"
     ]
    },
    {
     "name": "stderr",
     "output_type": "stream",
     "text": [
      "ERROR: Can not perform a '--user' install. User site-packages are not visible in this virtualenv.\n",
      "WARNING: You are using pip version 21.2.3; however, version 23.0 is available.\n",
      "You should consider upgrading via the 'c:\\Users\\mieshiii\\Desktop\\dev\\pySpark\\venv\\Scripts\\python.exe -m pip install --upgrade pip' command.\n"
     ]
    }
   ],
   "source": [
    "%pip install wheel pyspark --user"
   ]
  },
  {
   "cell_type": "code",
   "execution_count": 3,
   "metadata": {},
   "outputs": [],
   "source": [
    "from pyspark.sql import SparkSession"
   ]
  },
  {
   "cell_type": "code",
   "execution_count": 4,
   "metadata": {},
   "outputs": [],
   "source": [
    "spark = SparkSession.builder.master(\"local\").appName(\"Dataframe\").getOrCreate()"
   ]
  },
  {
   "cell_type": "code",
   "execution_count": 5,
   "metadata": {},
   "outputs": [],
   "source": [
    "df_pyspark = spark.read.option('header','true').csv('wsb_2023-02-05.csv', inferSchema=True)"
   ]
  },
  {
   "cell_type": "code",
   "execution_count": 6,
   "metadata": {},
   "outputs": [
    {
     "name": "stdout",
     "output_type": "stream",
     "text": [
      "root\n",
      " |-- _c0: string (nullable = true)\n",
      " |-- subreddit: string (nullable = true)\n",
      " |-- unique_id: string (nullable = true)\n",
      " |-- title: string (nullable = true)\n",
      " |-- selftext: string (nullable = true)\n",
      " |-- upvote_ratio: string (nullable = true)\n",
      " |-- upvote: string (nullable = true)\n",
      " |-- downvote: string (nullable = true)\n",
      " |-- score: string (nullable = true)\n",
      " |-- num_comments: string (nullable = true)\n",
      "\n"
     ]
    }
   ],
   "source": [
    "df_pyspark.printSchema()"
   ]
  },
  {
   "cell_type": "code",
   "execution_count": 7,
   "metadata": {},
   "outputs": [],
   "source": [
    "df_pyspark = spark.read.csv('wsb_2023-02-05.csv', header=True, inferSchema = True)"
   ]
  },
  {
   "cell_type": "code",
   "execution_count": 8,
   "metadata": {},
   "outputs": [
    {
     "name": "stdout",
     "output_type": "stream",
     "text": [
      "root\n",
      " |-- _c0: string (nullable = true)\n",
      " |-- subreddit: string (nullable = true)\n",
      " |-- unique_id: string (nullable = true)\n",
      " |-- title: string (nullable = true)\n",
      " |-- selftext: string (nullable = true)\n",
      " |-- upvote_ratio: string (nullable = true)\n",
      " |-- upvote: string (nullable = true)\n",
      " |-- downvote: string (nullable = true)\n",
      " |-- score: string (nullable = true)\n",
      " |-- num_comments: string (nullable = true)\n",
      "\n"
     ]
    }
   ],
   "source": [
    "df_pyspark.printSchema()"
   ]
  },
  {
   "cell_type": "code",
   "execution_count": 9,
   "metadata": {},
   "outputs": [
    {
     "data": {
      "text/plain": [
       "['_c0',\n",
       " 'subreddit',\n",
       " 'unique_id',\n",
       " 'title',\n",
       " 'selftext',\n",
       " 'upvote_ratio',\n",
       " 'upvote',\n",
       " 'downvote',\n",
       " 'score',\n",
       " 'num_comments']"
      ]
     },
     "execution_count": 9,
     "metadata": {},
     "output_type": "execute_result"
    }
   ],
   "source": [
    "df_pyspark.columns"
   ]
  },
  {
   "cell_type": "code",
   "execution_count": 10,
   "metadata": {},
   "outputs": [
    {
     "name": "stdout",
     "output_type": "stream",
     "text": [
      "+--------------------+\n",
      "|               title|\n",
      "+--------------------+\n",
      "|Weekend Discussio...|\n",
      "|                null|\n",
      "|                   0|\n",
      "|When new “expert”...|\n",
      "|If u ever feel du...|\n",
      "|Actual footage of...|\n",
      "|when you realized...|\n",
      "| AMZN 37k -&gt; 137k|\n",
      "|                   0|\n",
      "|    A Fellow Regard?|\n",
      "|My brother rang t...|\n",
      "|Blew up my accoun...|\n",
      "|The Castle on the...|\n",
      "|                null|\n",
      "|                null|\n",
      "| find a business ...|\n",
      "| a stock market i...|\n",
      "|                null|\n",
      "|                null|\n",
      "|                null|\n",
      "+--------------------+\n",
      "only showing top 20 rows\n",
      "\n"
     ]
    }
   ],
   "source": [
    "df_pyspark.select('title').show()"
   ]
  },
  {
   "cell_type": "code",
   "execution_count": 11,
   "metadata": {},
   "outputs": [
    {
     "name": "stdout",
     "output_type": "stream",
     "text": [
      "+--------------------+--------------------+\n",
      "|               title|            selftext|\n",
      "+--------------------+--------------------+\n",
      "|Weekend Discussio...|**Watch WallStree...|\n",
      "|                null|                null|\n",
      "|                   0|                 144|\n",
      "|When new “expert”...|                null|\n",
      "|If u ever feel du...|                null|\n",
      "|Actual footage of...|                null|\n",
      "|when you realized...|                null|\n",
      "| AMZN 37k -&gt; 137k|AMZN 85C 17FEB23 ...|\n",
      "|                   0|                1304|\n",
      "|    A Fellow Regard?|                null|\n",
      "|My brother rang t...|                null|\n",
      "|Blew up my accoun...|                null|\n",
      "|The Castle on the...|                    |\n",
      "|                null|                null|\n",
      "|                null|                null|\n",
      "| find a business ...| take your own ha...|\n",
      "| a stock market i...| markets and exch...|\n",
      "|                null|                null|\n",
      "|                null|                null|\n",
      "|                null|                null|\n",
      "+--------------------+--------------------+\n",
      "only showing top 20 rows\n",
      "\n"
     ]
    }
   ],
   "source": [
    "df_pyspark.select(['title', 'selftext']).show()"
   ]
  },
  {
   "cell_type": "code",
   "execution_count": null,
   "metadata": {},
   "outputs": [],
   "source": []
  },
  {
   "cell_type": "code",
   "execution_count": null,
   "metadata": {},
   "outputs": [],
   "source": []
  },
  {
   "cell_type": "code",
   "execution_count": null,
   "metadata": {},
   "outputs": [],
   "source": []
  }
 ],
 "metadata": {
  "kernelspec": {
   "display_name": "venv",
   "language": "python",
   "name": "python3"
  },
  "language_info": {
   "codemirror_mode": {
    "name": "ipython",
    "version": 3
   },
   "file_extension": ".py",
   "mimetype": "text/x-python",
   "name": "python",
   "nbconvert_exporter": "python",
   "pygments_lexer": "ipython3",
   "version": "3.10.0"
  },
  "orig_nbformat": 4,
  "vscode": {
   "interpreter": {
    "hash": "c30fa9c03d7588c02a0a89128d1f244e26a9facdacc32f0f85e5dc4b36ce63f9"
   }
  }
 },
 "nbformat": 4,
 "nbformat_minor": 2
}
