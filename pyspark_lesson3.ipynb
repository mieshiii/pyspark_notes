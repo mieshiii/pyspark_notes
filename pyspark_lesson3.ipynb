{
 "cells": [
  {
   "cell_type": "code",
   "execution_count": 1,
   "metadata": {},
   "outputs": [
    {
     "name": "stdout",
     "output_type": "stream",
     "text": [
      "Note: you may need to restart the kernel to use updated packages.\n"
     ]
    },
    {
     "name": "stderr",
     "output_type": "stream",
     "text": [
      "ERROR: Can not perform a '--user' install. User site-packages are not visible in this virtualenv.\n",
      "WARNING: You are using pip version 21.2.3; however, version 23.0 is available.\n",
      "You should consider upgrading via the 'c:\\Users\\mieshiii\\Desktop\\dev\\pySpark\\venv\\Scripts\\python.exe -m pip install --upgrade pip' command.\n"
     ]
    }
   ],
   "source": [
    "%pip install wheel pyspark --user"
   ]
  },
  {
   "cell_type": "code",
   "execution_count": 2,
   "metadata": {},
   "outputs": [],
   "source": [
    "from pyspark.sql import SparkSession"
   ]
  },
  {
   "cell_type": "code",
   "execution_count": 3,
   "metadata": {},
   "outputs": [],
   "source": [
    "spark = SparkSession.builder.master(\"local\").appName(\"Dataframe\").getOrCreate()\n",
    "df_pyspark = spark.read.option('header','true').csv('wsb_2023-02-05.csv', inferSchema=True)"
   ]
  },
  {
   "cell_type": "code",
   "execution_count": 4,
   "metadata": {},
   "outputs": [
    {
     "name": "stdout",
     "output_type": "stream",
     "text": [
      "+--------------------+--------------------+--------------------+--------------------+--------------------+--------------------+--------------------+--------+-----+------------+\n",
      "|                 _c0|           subreddit|           unique_id|               title|            selftext|        upvote_ratio|              upvote|downvote|score|num_comments|\n",
      "+--------------------+--------------------+--------------------+--------------------+--------------------+--------------------+--------------------+--------+-----+------------+\n",
      "|                   0|      wallstreetbets|          t3_10sv3v5|Weekend Discussio...|**Watch WallStree...|                null|                null|    null| null|        null|\n",
      "|Follow [Twitter](...| join [Discord](h...| play [ban bets](...|                null|                null|                null|                null|    null| null|        null|\n",
      "|Check out last we...|                0.89|                 144|                   0|                 144|               12716|                null|    null| null|        null|\n",
      "|                   1|      wallstreetbets|          t3_10sa9re|When new “expert”...|                null|                0.94|                  47|       0|   47|          10|\n",
      "|                   2|      wallstreetbets|          t3_10tq74h|If u ever feel du...|                null|                0.95|                6823|       0| 6823|         600|\n",
      "|                   3|      wallstreetbets|          t3_10tlc85|Actual footage of...|                null|                0.97|                8698|       0| 8698|         183|\n",
      "|                   4|      wallstreetbets|          t3_10to2iy|when you realized...|                null|                0.87|                1138|       0| 1138|         182|\n",
      "|                   5|      wallstreetbets|          t3_10tkroy| AMZN 37k -&gt; 137k|AMZN 85C 17FEB23 ...|                null|                null|    null| null|        null|\n",
      "|History: https://...|                0.94|                1304|                   0|                1304|                 108|                null|    null| null|        null|\n",
      "|                   6|      wallstreetbets|          t3_10tybzm|    A Fellow Regard?|                null|                0.94|                 131|       0|  131|          33|\n",
      "|                   7|      wallstreetbets|          t3_10t3aw1|My brother rang t...|                null|                0.86|               19271|       0|19271|        1526|\n",
      "|                   8|      wallstreetbets|          t3_10tf4i2|Blew up my accoun...|                null|                0.94|                1422|       0| 1422|         600|\n",
      "|                   9|      wallstreetbets|          t3_10toqua|The Castle on the...|                    |                null|                null|    null| null|        null|\n",
      "|***TLDR: Kenneth ...| high-frequency t...| or by taking adv...|                null|                null|                null|                null|    null| null|        null|\n",
      "|         **PREFACE**|                null|                null|                null|                null|                null|                null|    null| null|        null|\n",
      "|Since the origina...| countless invest...| these strategies...| find a business ...| take your own ha...| after years of d...| reap the rewards...|    null| null|        null|\n",
      "|      I believe that|       at their core| stock markets ar...| a stock market i...| markets and exch...|                null|                null|    null| null|        null|\n",
      "|      At their worst| they are vehicle...| the ticker takes...|                null|                null|                null|                null|    null| null|        null|\n",
      "|I believe that th...| I'll still inclu...|                null|                null|                null|                null|                null|    null| null|        null|\n",
      "|             In 1990| a man named Kenn...|                null|                null|                null|                null|                null|    null| null|        null|\n",
      "+--------------------+--------------------+--------------------+--------------------+--------------------+--------------------+--------------------+--------+-----+------------+\n",
      "only showing top 20 rows\n",
      "\n"
     ]
    }
   ],
   "source": [
    "\n",
    "df_pyspark.show()"
   ]
  },
  {
   "cell_type": "code",
   "execution_count": 5,
   "metadata": {},
   "outputs": [
    {
     "name": "stdout",
     "output_type": "stream",
     "text": [
      "+--------------------+--------------------+--------------------+--------------------+--------------------+--------------------+--------+-----+------------+\n",
      "|                 _c0|           unique_id|               title|            selftext|        upvote_ratio|              upvote|downvote|score|num_comments|\n",
      "+--------------------+--------------------+--------------------+--------------------+--------------------+--------------------+--------+-----+------------+\n",
      "|                   0|          t3_10sv3v5|Weekend Discussio...|**Watch WallStree...|                null|                null|    null| null|        null|\n",
      "|Follow [Twitter](...| play [ban bets](...|                null|                null|                null|                null|    null| null|        null|\n",
      "|Check out last we...|                 144|                   0|                 144|               12716|                null|    null| null|        null|\n",
      "|                   1|          t3_10sa9re|When new “expert”...|                null|                0.94|                  47|       0|   47|          10|\n",
      "|                   2|          t3_10tq74h|If u ever feel du...|                null|                0.95|                6823|       0| 6823|         600|\n",
      "|                   3|          t3_10tlc85|Actual footage of...|                null|                0.97|                8698|       0| 8698|         183|\n",
      "|                   4|          t3_10to2iy|when you realized...|                null|                0.87|                1138|       0| 1138|         182|\n",
      "|                   5|          t3_10tkroy| AMZN 37k -&gt; 137k|AMZN 85C 17FEB23 ...|                null|                null|    null| null|        null|\n",
      "|History: https://...|                1304|                   0|                1304|                 108|                null|    null| null|        null|\n",
      "|                   6|          t3_10tybzm|    A Fellow Regard?|                null|                0.94|                 131|       0|  131|          33|\n",
      "|                   7|          t3_10t3aw1|My brother rang t...|                null|                0.86|               19271|       0|19271|        1526|\n",
      "|                   8|          t3_10tf4i2|Blew up my accoun...|                null|                0.94|                1422|       0| 1422|         600|\n",
      "|                   9|          t3_10toqua|The Castle on the...|                    |                null|                null|    null| null|        null|\n",
      "|***TLDR: Kenneth ...| or by taking adv...|                null|                null|                null|                null|    null| null|        null|\n",
      "|         **PREFACE**|                null|                null|                null|                null|                null|    null| null|        null|\n",
      "|Since the origina...| these strategies...| find a business ...| take your own ha...| after years of d...| reap the rewards...|    null| null|        null|\n",
      "|      I believe that| stock markets ar...| a stock market i...| markets and exch...|                null|                null|    null| null|        null|\n",
      "|      At their worst| the ticker takes...|                null|                null|                null|                null|    null| null|        null|\n",
      "|I believe that th...|                null|                null|                null|                null|                null|    null| null|        null|\n",
      "|             In 1990|                null|                null|                null|                null|                null|    null| null|        null|\n",
      "+--------------------+--------------------+--------------------+--------------------+--------------------+--------------------+--------+-----+------------+\n",
      "only showing top 20 rows\n",
      "\n"
     ]
    }
   ],
   "source": [
    "##drop the columns\n",
    "df_pyspark.drop('subreddit').show()"
   ]
  },
  {
   "cell_type": "code",
   "execution_count": 6,
   "metadata": {},
   "outputs": [
    {
     "name": "stdout",
     "output_type": "stream",
     "text": [
      "+--------------------+--------------------+--------------------+--------------------+--------------------+--------------------+--------------------+--------------------+--------------------+--------------------+\n",
      "|                 _c0|           subreddit|           unique_id|               title|            selftext|        upvote_ratio|              upvote|            downvote|               score|        num_comments|\n",
      "+--------------------+--------------------+--------------------+--------------------+--------------------+--------------------+--------------------+--------------------+--------------------+--------------------+\n",
      "|The question at t...| but this one see...| the GameStop cre...|         such as amc|      a cinema chain|             and Bed|   Bath &amp; Beyond| a home-goods ret...| including Andrew...|     a research firm|\n",
      "|                What|                then| is left of the r...| even if they are...| in the first qua...| it peaked at 24%...| who stand in the...| and retail trade...| with institution...| or around one-th...|\n",
      "|Perhaps what will...|              though| is the levity. I...| their influence ...| the Reddit forum...| with a small dif...|    the short-seller|       is the hero.\"|                0.76|                  13|\n",
      "|Robinhood is the ...|       2022 (Q3 HOOD| pg 6). As the ma...| Robinhood experi...| pg7). During thi...| where Robinhood ...| Robinhood had an...| pg 7). Not only ...| but the growth e...|2021&gt; as well ...|\n",
      "| \"\"Robinhood Markets| Inc. operates fi...| exchange-traded ...|             options|                gold| and cryptocurren...| a digest of busi...| which is a colle...|    including guides|   feature tutorials|\n",
      "|                  32|      wallstreetbets|          t3_10tsmod|Will Chinese stoc...| The first Chinse...|                0.59|                  14|                   0|                  14|                 139|\n",
      "| I just don't get it| they are one of ...| in a market that...| with national at...| (50% of all satt...|                0.71|                  13|                   0|                  13|                  25|\n",
      "|                  42|      wallstreetbets|          t3_10tng1g|Cramer went crazy...|Yesterday on Squa...|                0.72|                  14|                   0|                  14|                  31|\n",
      "|             Overall| we believe the F...| to a terminal ra...| after the upside...| we revised our e...| we now forecast ...| a level of unemp...| the resilience o...| which is a key m...| we now believe t...|\n",
      "|We believe the Ja...| increasing the p...| exceeding expect...| though April and...| widely considere...| which resumed in...| a gauge of gener...| also rebounded s...| an alternative m...| continued to inc...|\n",
      "|The coming week i...| but some interes...| while on 8 Febru...| Governor Cook wi...| Atlanta Fed Pres...| Minneapolis Fed ...| and Governor Wal...| Powell highlight...| at his post-FOMC...| Chair Powell sai...|\n",
      "|In terms of incom...| we will have the...| though we would ...| we will have the...| which provides b...| which suggested ...| further informat...| and we expect a ...| the preliminary ...| including lower ...|\n",
      "|             The ECI| the Fed’s prefer...| showed wage infl...| joining a variet...| the y-o-y change...| private wages an...| ADP’sy-o-y wage ...| which also adjus...| held level at 7....| this follows thr...|\n",
      "|I started trading...|                lol)| so my journey be...| they cut my sala...| so I decided to ...| when will we sto...| made 200-300% wi...| and started trad...| and I no longer ...| so let's see wha...|\n",
      "|*“Retail trading ...| according to JPM...| as non-instituti...| even surpassing ...| meme-driven surg...|                0.94|                 127|                   0|                 127|                  68|\n",
      "|                  61|      wallstreetbets|          t3_10tlnov|Need to find a la...|With the announce...|                 0.7|                   5|                   0|                   5|                  18|\n",
      "|                  79|      wallstreetbets|          t3_10t2kda|       Trading Tesla|**TSLA** will nev...|                0.69|                  17|                   0|                  17|                  42|\n",
      "|                  83|      wallstreetbets|          t3_10t00eb|  Market predictions|What do you all t...|                0.76|                  19|                   0|                  19|                  89|\n",
      "|                  87|      wallstreetbets|          t3_10swxcg|I completely and ...|Managed to lose i...|                0.82|                  25|                   0|                  25|                  27|\n",
      "|                  91|      wallstreetbets|          t3_10sxzm4|Three recent AI s...|As title says, th...|                0.77|                  17|                   0|                  17|                  29|\n",
      "+--------------------+--------------------+--------------------+--------------------+--------------------+--------------------+--------------------+--------------------+--------------------+--------------------+\n",
      "\n"
     ]
    }
   ],
   "source": [
    "df_pyspark.na.drop().show()"
   ]
  },
  {
   "cell_type": "code",
   "execution_count": 7,
   "metadata": {},
   "outputs": [
    {
     "name": "stdout",
     "output_type": "stream",
     "text": [
      "+--------------------+--------------------+--------------------+--------------------+--------------------+--------------------+--------------------+--------------------+--------------------+--------------------+\n",
      "|                 _c0|           subreddit|           unique_id|               title|            selftext|        upvote_ratio|              upvote|            downvote|               score|        num_comments|\n",
      "+--------------------+--------------------+--------------------+--------------------+--------------------+--------------------+--------------------+--------------------+--------------------+--------------------+\n",
      "|The question at t...| but this one see...| the GameStop cre...|         such as amc|      a cinema chain|             and Bed|   Bath &amp; Beyond| a home-goods ret...| including Andrew...|     a research firm|\n",
      "|                What|                then| is left of the r...| even if they are...| in the first qua...| it peaked at 24%...| who stand in the...| and retail trade...| with institution...| or around one-th...|\n",
      "|Perhaps what will...|              though| is the levity. I...| their influence ...| the Reddit forum...| with a small dif...|    the short-seller|       is the hero.\"|                0.76|                  13|\n",
      "|Robinhood is the ...|       2022 (Q3 HOOD| pg 6). As the ma...| Robinhood experi...| pg7). During thi...| where Robinhood ...| Robinhood had an...| pg 7). Not only ...| but the growth e...|2021&gt; as well ...|\n",
      "| \"\"Robinhood Markets| Inc. operates fi...| exchange-traded ...|             options|                gold| and cryptocurren...| a digest of busi...| which is a colle...|    including guides|   feature tutorials|\n",
      "|                  32|      wallstreetbets|          t3_10tsmod|Will Chinese stoc...| The first Chinse...|                0.59|                  14|                   0|                  14|                 139|\n",
      "| I just don't get it| they are one of ...| in a market that...| with national at...| (50% of all satt...|                0.71|                  13|                   0|                  13|                  25|\n",
      "|                  42|      wallstreetbets|          t3_10tng1g|Cramer went crazy...|Yesterday on Squa...|                0.72|                  14|                   0|                  14|                  31|\n",
      "|             Overall| we believe the F...| to a terminal ra...| after the upside...| we revised our e...| we now forecast ...| a level of unemp...| the resilience o...| which is a key m...| we now believe t...|\n",
      "|We believe the Ja...| increasing the p...| exceeding expect...| though April and...| widely considere...| which resumed in...| a gauge of gener...| also rebounded s...| an alternative m...| continued to inc...|\n",
      "|The coming week i...| but some interes...| while on 8 Febru...| Governor Cook wi...| Atlanta Fed Pres...| Minneapolis Fed ...| and Governor Wal...| Powell highlight...| at his post-FOMC...| Chair Powell sai...|\n",
      "|In terms of incom...| we will have the...| though we would ...| we will have the...| which provides b...| which suggested ...| further informat...| and we expect a ...| the preliminary ...| including lower ...|\n",
      "|             The ECI| the Fed’s prefer...| showed wage infl...| joining a variet...| the y-o-y change...| private wages an...| ADP’sy-o-y wage ...| which also adjus...| held level at 7....| this follows thr...|\n",
      "|I started trading...|                lol)| so my journey be...| they cut my sala...| so I decided to ...| when will we sto...| made 200-300% wi...| and started trad...| and I no longer ...| so let's see wha...|\n",
      "|*“Retail trading ...| according to JPM...| as non-instituti...| even surpassing ...| meme-driven surg...|                0.94|                 127|                   0|                 127|                  68|\n",
      "|                  61|      wallstreetbets|          t3_10tlnov|Need to find a la...|With the announce...|                 0.7|                   5|                   0|                   5|                  18|\n",
      "|                  79|      wallstreetbets|          t3_10t2kda|       Trading Tesla|**TSLA** will nev...|                0.69|                  17|                   0|                  17|                  42|\n",
      "|                  83|      wallstreetbets|          t3_10t00eb|  Market predictions|What do you all t...|                0.76|                  19|                   0|                  19|                  89|\n",
      "|                  87|      wallstreetbets|          t3_10swxcg|I completely and ...|Managed to lose i...|                0.82|                  25|                   0|                  25|                  27|\n",
      "|                  91|      wallstreetbets|          t3_10sxzm4|Three recent AI s...|As title says, th...|                0.77|                  17|                   0|                  17|                  29|\n",
      "+--------------------+--------------------+--------------------+--------------------+--------------------+--------------------+--------------------+--------------------+--------------------+--------------------+\n",
      "\n"
     ]
    }
   ],
   "source": [
    "### any==how\n",
    "df_pyspark.na.drop(how=\"any\").show()"
   ]
  },
  {
   "cell_type": "code",
   "execution_count": 8,
   "metadata": {},
   "outputs": [
    {
     "name": "stdout",
     "output_type": "stream",
     "text": [
      "+--------------------+--------------------+--------------------+--------------------+--------------------+--------------------+--------------------+--------+-----+------------+\n",
      "|                 _c0|           subreddit|           unique_id|               title|            selftext|        upvote_ratio|              upvote|downvote|score|num_comments|\n",
      "+--------------------+--------------------+--------------------+--------------------+--------------------+--------------------+--------------------+--------+-----+------------+\n",
      "|                   0|      wallstreetbets|          t3_10sv3v5|Weekend Discussio...|**Watch WallStree...|                null|                null|    null| null|        null|\n",
      "|Follow [Twitter](...| join [Discord](h...| play [ban bets](...|                null|                null|                null|                null|    null| null|        null|\n",
      "|Check out last we...|                0.89|                 144|                   0|                 144|               12716|                null|    null| null|        null|\n",
      "|                   1|      wallstreetbets|          t3_10sa9re|When new “expert”...|                null|                0.94|                  47|       0|   47|          10|\n",
      "|                   2|      wallstreetbets|          t3_10tq74h|If u ever feel du...|                null|                0.95|                6823|       0| 6823|         600|\n",
      "|                   3|      wallstreetbets|          t3_10tlc85|Actual footage of...|                null|                0.97|                8698|       0| 8698|         183|\n",
      "|                   4|      wallstreetbets|          t3_10to2iy|when you realized...|                null|                0.87|                1138|       0| 1138|         182|\n",
      "|                   5|      wallstreetbets|          t3_10tkroy| AMZN 37k -&gt; 137k|AMZN 85C 17FEB23 ...|                null|                null|    null| null|        null|\n",
      "|History: https://...|                0.94|                1304|                   0|                1304|                 108|                null|    null| null|        null|\n",
      "|                   6|      wallstreetbets|          t3_10tybzm|    A Fellow Regard?|                null|                0.94|                 131|       0|  131|          33|\n",
      "|                   7|      wallstreetbets|          t3_10t3aw1|My brother rang t...|                null|                0.86|               19271|       0|19271|        1526|\n",
      "|                   8|      wallstreetbets|          t3_10tf4i2|Blew up my accoun...|                null|                0.94|                1422|       0| 1422|         600|\n",
      "|                   9|      wallstreetbets|          t3_10toqua|The Castle on the...|                    |                null|                null|    null| null|        null|\n",
      "|***TLDR: Kenneth ...| high-frequency t...| or by taking adv...|                null|                null|                null|                null|    null| null|        null|\n",
      "|Since the origina...| countless invest...| these strategies...| find a business ...| take your own ha...| after years of d...| reap the rewards...|    null| null|        null|\n",
      "|      I believe that|       at their core| stock markets ar...| a stock market i...| markets and exch...|                null|                null|    null| null|        null|\n",
      "|      At their worst| they are vehicle...| the ticker takes...|                null|                null|                null|                null|    null| null|        null|\n",
      "|Above is an examp...| the allegations ...|    erroneous orders| or the like. How...| Citadel has an *...|                null|                null|    null| null|        null|\n",
      "|When confronted w...| it is almost alw...|xxx fine rather t...| from 2010-presen...|                null|                null|                null|    null| null|        null|\n",
      "|What this injunct...| is that Citadel ...| backdating trade...| or misrepresenti...|                null|                null|                null|    null| null|        null|\n",
      "+--------------------+--------------------+--------------------+--------------------+--------------------+--------------------+--------------------+--------+-----+------------+\n",
      "only showing top 20 rows\n",
      "\n"
     ]
    }
   ],
   "source": [
    "##threshold\n",
    "df_pyspark.na.drop(how=\"any\",thresh=3).show()"
   ]
  },
  {
   "cell_type": "code",
   "execution_count": 10,
   "metadata": {},
   "outputs": [
    {
     "name": "stdout",
     "output_type": "stream",
     "text": [
      "+--------------------+--------------------+--------------------+--------------------+--------------------+--------------------+--------------------+--------------------+-----+------------+\n",
      "|                 _c0|           subreddit|           unique_id|               title|            selftext|        upvote_ratio|              upvote|            downvote|score|num_comments|\n",
      "+--------------------+--------------------+--------------------+--------------------+--------------------+--------------------+--------------------+--------------------+-----+------------+\n",
      "|                   0|      wallstreetbets|          t3_10sv3v5|Weekend Discussio...|**Watch WallStree...|                null|                null|                null| null|        null|\n",
      "|Check out last we...|                0.89|                 144|                   0|                 144|               12716|                null|                null| null|        null|\n",
      "|                   5|      wallstreetbets|          t3_10tkroy| AMZN 37k -&gt; 137k|AMZN 85C 17FEB23 ...|                null|                null|                null| null|        null|\n",
      "|History: https://...|                0.94|                1304|                   0|                1304|                 108|                null|                null| null|        null|\n",
      "|                   9|      wallstreetbets|          t3_10toqua|The Castle on the...|                    |                null|                null|                null| null|        null|\n",
      "|Since the origina...| countless invest...| these strategies...| find a business ...| take your own ha...| after years of d...| reap the rewards...|                null| null|        null|\n",
      "|      I believe that|       at their core| stock markets ar...| a stock market i...| markets and exch...|                null|                null|                null| null|        null|\n",
      "|Above is an examp...| the allegations ...|    erroneous orders| or the like. How...| Citadel has an *...|                null|                null|                null| null|        null|\n",
      "|Citadel is a pool...| which means they...|          securities| and commodities....| but it does rais...|                null|                null|                null| null|        null|\n",
      "|Large high-freque...| this is not inhe...| but it does exem...| Citadel most lik...| and with the lat...| it appears to be...| exchanges simply...|                null| null|        null|\n",
      "|Fundamentally spe...| the stock market...| a company that h...|              growth| and revenue will...| and this is unde...| so too can compa...|                null| null|        null|\n",
      "|We've become so u...|        stock splits| and \"\"Fail to De...| as the money mus...| when markets beg...| the supply of sh...| and many have in...| here is a recent...| null|        null|\n",
      "|I believe that th...| so I won't go in...| since VIX-relate...|                 VXX| and UVIX are oft...|  believe they ar...|                null|                null| null|        null|\n",
      "|         Furthermore| the VIX is curre...| near its 52-week...| regardless of ma...| it could easily ...|             however| that leveraged a...|                null| null|        null|\n",
      "|The NASDAQ Exchan...|   there were over 1|000 new IPOs. The...| NDAQ has seen a ...| I believe that a...| they will experi...|   they already are.|                null| null|        null|\n",
      "|***And the tide i...|                0.88|                 301|                   0|                 301|                  80|                null|                null| null|        null|\n",
      "|                  17|      wallstreetbets|          t3_10tlw62|Thesis: Bulls wil...|I'll try and keep...|                null|                null|                null| null|        null|\n",
      "|Full Disclosure: ...|                0.68|                 100|                   0|                 100|                 206|                null|                null| null|        null|\n",
      "|                  20|      wallstreetbets|          t3_10tywsi|\"WallStreetBets b...|               TLDR:|                null|                null|                null| null|        null|\n",
      "|Two years ago the...| a struggling vid...| hit an all-time ...| up from around $...| newcomers piled ...| ostensibly becau...| bet that the fir...|                null| null|        null|\n",
      "+--------------------+--------------------+--------------------+--------------------+--------------------+--------------------+--------------------+--------------------+-----+------------+\n",
      "only showing top 20 rows\n",
      "\n"
     ]
    }
   ],
   "source": [
    "##Subset\n",
    "df_pyspark.na.drop(how=\"any\",subset=['selftext']).show()"
   ]
  },
  {
   "cell_type": "code",
   "execution_count": null,
   "metadata": {},
   "outputs": [],
   "source": []
  }
 ],
 "metadata": {
  "kernelspec": {
   "display_name": "venv",
   "language": "python",
   "name": "python3"
  },
  "language_info": {
   "codemirror_mode": {
    "name": "ipython",
    "version": 3
   },
   "file_extension": ".py",
   "mimetype": "text/x-python",
   "name": "python",
   "nbconvert_exporter": "python",
   "pygments_lexer": "ipython3",
   "version": "3.10.0"
  },
  "orig_nbformat": 4,
  "vscode": {
   "interpreter": {
    "hash": "c30fa9c03d7588c02a0a89128d1f244e26a9facdacc32f0f85e5dc4b36ce63f9"
   }
  }
 },
 "nbformat": 4,
 "nbformat_minor": 2
}
