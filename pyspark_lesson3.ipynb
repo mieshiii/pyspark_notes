{
 "cells": [
  {
   "attachments": {},
   "cell_type": "markdown",
   "metadata": {},
   "source": [
    "<h3>PySpark Handling Missing Values</h3>\n",
    "- Droppping Columns <br>\n",
    "- Dropping Rows <br>\n",
    "- Various Parameter In Dropping function <br>\n",
    "- Handling Missing Values by Mean, Median and Mode <br>"
   ]
  },
  {
   "cell_type": "code",
   "execution_count": 5,
   "metadata": {},
   "outputs": [
    {
     "name": "stdout",
     "output_type": "stream",
     "text": [
      "Note: you may need to restart the kernel to use updated packages.\n"
     ]
    },
    {
     "name": "stderr",
     "output_type": "stream",
     "text": [
      "ERROR: Can not perform a '--user' install. User site-packages are not visible in this virtualenv.\n",
      "WARNING: You are using pip version 21.2.3; however, version 23.0.1 is available.\n",
      "You should consider upgrading via the 'c:\\Users\\mieshiii\\Desktop\\dev\\pySpark\\venv\\Scripts\\python.exe -m pip install --upgrade pip' command.\n"
     ]
    }
   ],
   "source": [
    "%pip install wheel pyspark --user"
   ]
  },
  {
   "cell_type": "code",
   "execution_count": 6,
   "metadata": {},
   "outputs": [],
   "source": [
    "from pyspark.sql import SparkSession"
   ]
  },
  {
   "cell_type": "code",
   "execution_count": 7,
   "metadata": {},
   "outputs": [],
   "source": [
    "spark = SparkSession.builder.master(\"local\").appName(\"Dataframe\").getOrCreate()\n"
   ]
  },
  {
   "cell_type": "code",
   "execution_count": 14,
   "metadata": {},
   "outputs": [],
   "source": [
    "df_pyspark = spark.read.option('header','true').csv('hr_data.csv', inferSchema=True)"
   ]
  },
  {
   "cell_type": "code",
   "execution_count": 16,
   "metadata": {},
   "outputs": [
    {
     "name": "stdout",
     "output_type": "stream",
     "text": [
      "+----------------+----+----------+------+\n",
      "|            Name| Age|Experience|Salary|\n",
      "+----------------+----+----------+------+\n",
      "|    Tina Coleman|  43|        10| 64116|\n",
      "|   Walter French|  55|        10| 64294|\n",
      "|  Herbert Blaese|  42|         7| 50868|\n",
      "|     Safia Ayala|  28|         3| 52033|\n",
      "|  Keeley Bennett|  25|         1| 52033|\n",
      "|  Caitlyn Hebert|  30|         5| 55252|\n",
      "|Sebastian Hooper|null|        10| 56510|\n",
      "| Dalton Matthams|  38|         5| 55617|\n",
      "|   Laura O'Moore|  40|        10| 50692|\n",
      "| Matthew Warner |null|      null| 59401|\n",
      "|            null|  32|         6| 54142|\n",
      "+----------------+----+----------+------+\n",
      "\n"
     ]
    }
   ],
   "source": [
    "\n",
    "df_pyspark.show()"
   ]
  },
  {
   "cell_type": "code",
   "execution_count": 9,
   "metadata": {},
   "outputs": [
    {
     "name": "stdout",
     "output_type": "stream",
     "text": [
      "+----------------+----+----------+\n",
      "|            Name| Age|Experience|\n",
      "+----------------+----+----------+\n",
      "|    Tina Coleman|  43|        10|\n",
      "|   Walter French|  55|        10|\n",
      "|  Herbert Blaese|  42|         7|\n",
      "|     Safia Ayala|  28|         3|\n",
      "|  Keeley Bennett|  25|         1|\n",
      "|  Caitlyn Hebert|  30|         5|\n",
      "|Sebastian Hooper|null|        10|\n",
      "| Dalton Matthams|  38|         5|\n",
      "|   Laura O'Moore|  40|        10|\n",
      "| Matthew Warner |null|      null|\n",
      "|            null|  32|         6|\n",
      "+----------------+----+----------+\n",
      "\n"
     ]
    }
   ],
   "source": [
    "##drop the columns\n",
    "df_pyspark.drop('salary').show()"
   ]
  },
  {
   "cell_type": "code",
   "execution_count": 10,
   "metadata": {},
   "outputs": [
    {
     "name": "stdout",
     "output_type": "stream",
     "text": [
      "+---------------+---+----------+------+\n",
      "|           Name|Age|Experience|Salary|\n",
      "+---------------+---+----------+------+\n",
      "|   Tina Coleman| 43|        10| 64116|\n",
      "|  Walter French| 55|        10| 64294|\n",
      "| Herbert Blaese| 42|         7| 50868|\n",
      "|    Safia Ayala| 28|         3| 52033|\n",
      "| Keeley Bennett| 25|         1| 52033|\n",
      "| Caitlyn Hebert| 30|         5| 55252|\n",
      "|Dalton Matthams| 38|         5| 55617|\n",
      "|  Laura O'Moore| 40|        10| 50692|\n",
      "+---------------+---+----------+------+\n",
      "\n"
     ]
    }
   ],
   "source": [
    "df_pyspark.na.drop().show()"
   ]
  },
  {
   "cell_type": "code",
   "execution_count": 11,
   "metadata": {},
   "outputs": [
    {
     "name": "stdout",
     "output_type": "stream",
     "text": [
      "+---------------+---+----------+------+\n",
      "|           Name|Age|Experience|Salary|\n",
      "+---------------+---+----------+------+\n",
      "|   Tina Coleman| 43|        10| 64116|\n",
      "|  Walter French| 55|        10| 64294|\n",
      "| Herbert Blaese| 42|         7| 50868|\n",
      "|    Safia Ayala| 28|         3| 52033|\n",
      "| Keeley Bennett| 25|         1| 52033|\n",
      "| Caitlyn Hebert| 30|         5| 55252|\n",
      "|Dalton Matthams| 38|         5| 55617|\n",
      "|  Laura O'Moore| 40|        10| 50692|\n",
      "+---------------+---+----------+------+\n",
      "\n"
     ]
    }
   ],
   "source": [
    "### any==how\n",
    "df_pyspark.na.drop(how=\"any\").show()"
   ]
  },
  {
   "cell_type": "code",
   "execution_count": 13,
   "metadata": {},
   "outputs": [
    {
     "name": "stdout",
     "output_type": "stream",
     "text": [
      "+----------------+----+----------+------+\n",
      "|            Name| Age|Experience|Salary|\n",
      "+----------------+----+----------+------+\n",
      "|    Tina Coleman|  43|        10| 64116|\n",
      "|   Walter French|  55|        10| 64294|\n",
      "|  Herbert Blaese|  42|         7| 50868|\n",
      "|     Safia Ayala|  28|         3| 52033|\n",
      "|  Keeley Bennett|  25|         1| 52033|\n",
      "|  Caitlyn Hebert|  30|         5| 55252|\n",
      "|Sebastian Hooper|null|        10| 56510|\n",
      "| Dalton Matthams|  38|         5| 55617|\n",
      "|   Laura O'Moore|  40|        10| 50692|\n",
      "| Matthew Warner |null|      null| 59401|\n",
      "|            null|  32|         6| 54142|\n",
      "+----------------+----+----------+------+\n",
      "\n"
     ]
    }
   ],
   "source": [
    "### any==all \n",
    "### all means drop a row if all columns are null\n",
    "df_pyspark.na.drop(how=\"all\").show()"
   ]
  },
  {
   "cell_type": "code",
   "execution_count": 17,
   "metadata": {},
   "outputs": [
    {
     "name": "stdout",
     "output_type": "stream",
     "text": [
      "+----------------+----+----------+------+\n",
      "|            Name| Age|Experience|Salary|\n",
      "+----------------+----+----------+------+\n",
      "|    Tina Coleman|  43|        10| 64116|\n",
      "|   Walter French|  55|        10| 64294|\n",
      "|  Herbert Blaese|  42|         7| 50868|\n",
      "|     Safia Ayala|  28|         3| 52033|\n",
      "|  Keeley Bennett|  25|         1| 52033|\n",
      "|  Caitlyn Hebert|  30|         5| 55252|\n",
      "|Sebastian Hooper|null|        10| 56510|\n",
      "| Dalton Matthams|  38|         5| 55617|\n",
      "|   Laura O'Moore|  40|        10| 50692|\n",
      "| Matthew Warner |null|      null| 59401|\n",
      "|            null|  32|         6| 54142|\n",
      "+----------------+----+----------+------+\n",
      "\n"
     ]
    }
   ],
   "source": [
    "##threshold\n",
    "df_pyspark.na.drop(how=\"any\",thresh=2).show()"
   ]
  },
  {
   "cell_type": "code",
   "execution_count": 18,
   "metadata": {},
   "outputs": [
    {
     "name": "stdout",
     "output_type": "stream",
     "text": [
      "+----------------+----+----------+------+\n",
      "|            Name| Age|Experience|Salary|\n",
      "+----------------+----+----------+------+\n",
      "|    Tina Coleman|  43|        10| 64116|\n",
      "|   Walter French|  55|        10| 64294|\n",
      "|  Herbert Blaese|  42|         7| 50868|\n",
      "|     Safia Ayala|  28|         3| 52033|\n",
      "|  Keeley Bennett|  25|         1| 52033|\n",
      "|  Caitlyn Hebert|  30|         5| 55252|\n",
      "|Sebastian Hooper|null|        10| 56510|\n",
      "| Dalton Matthams|  38|         5| 55617|\n",
      "|   Laura O'Moore|  40|        10| 50692|\n",
      "|            null|  32|         6| 54142|\n",
      "+----------------+----+----------+------+\n",
      "\n"
     ]
    }
   ],
   "source": [
    "##Subset\n",
    "df_pyspark.na.drop(how=\"any\",subset=['Experience']).show()"
   ]
  },
  {
   "cell_type": "code",
   "execution_count": 28,
   "metadata": {},
   "outputs": [
    {
     "name": "stdout",
     "output_type": "stream",
     "text": [
      "+----------------+---+----------+------+\n",
      "|            Name|Age|Experience|Salary|\n",
      "+----------------+---+----------+------+\n",
      "|    Tina Coleman| 43|        10| 64116|\n",
      "|   Walter French| 55|        10| 64294|\n",
      "|  Herbert Blaese| 42|         7| 50868|\n",
      "|     Safia Ayala| 28|         3| 52033|\n",
      "|  Keeley Bennett| 25|         1| 52033|\n",
      "|  Caitlyn Hebert| 30|         5| 55252|\n",
      "|Sebastian Hooper|  0|        10| 56510|\n",
      "| Dalton Matthams| 38|         5| 55617|\n",
      "|   Laura O'Moore| 40|        10| 50692|\n",
      "| Matthew Warner |  0|         0| 59401|\n",
      "|            null| 32|         6| 54142|\n",
      "+----------------+---+----------+------+\n",
      "\n"
     ]
    }
   ],
   "source": [
    "### Fill the missing value\n",
    "### value should match the initial data type from the data source/schema\n",
    "df_pyspark.na.fill(value=0, subset=['Age','Experience']).show()"
   ]
  },
  {
   "cell_type": "code",
   "execution_count": null,
   "metadata": {},
   "outputs": [],
   "source": []
  }
 ],
 "metadata": {
  "kernelspec": {
   "display_name": "venv",
   "language": "python",
   "name": "python3"
  },
  "language_info": {
   "codemirror_mode": {
    "name": "ipython",
    "version": 3
   },
   "file_extension": ".py",
   "mimetype": "text/x-python",
   "name": "python",
   "nbconvert_exporter": "python",
   "pygments_lexer": "ipython3",
   "version": "3.10.0"
  },
  "orig_nbformat": 4,
  "vscode": {
   "interpreter": {
    "hash": "c30fa9c03d7588c02a0a89128d1f244e26a9facdacc32f0f85e5dc4b36ce63f9"
   }
  }
 },
 "nbformat": 4,
 "nbformat_minor": 2
}
