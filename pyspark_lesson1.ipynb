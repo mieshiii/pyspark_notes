{
 "cells": [
  {
   "cell_type": "code",
   "execution_count": 1,
   "metadata": {},
   "outputs": [
    {
     "name": "stdout",
     "output_type": "stream",
     "text": [
      "Requirement already satisfied: wheel in c:\\users\\mieshiii\\appdata\\roaming\\python\\python310\\site-packages (0.38.4)\n",
      "Requirement already satisfied: pyspark in c:\\users\\mieshiii\\appdata\\roaming\\python\\python310\\site-packages (3.3.1)\n",
      "Requirement already satisfied: py4j==0.10.9.5 in c:\\python310\\lib\\site-packages (from pyspark) (0.10.9.5)\n",
      "Note: you may need to restart the kernel to use updated packages.\n"
     ]
    },
    {
     "name": "stderr",
     "output_type": "stream",
     "text": [
      "WARNING: Ignoring invalid distribution -ip (c:\\python310\\lib\\site-packages)\n",
      "WARNING: Ignoring invalid distribution -ip (c:\\python310\\lib\\site-packages)\n",
      "WARNING: Ignoring invalid distribution -ip (c:\\python310\\lib\\site-packages)\n",
      "WARNING: Ignoring invalid distribution -ip (c:\\python310\\lib\\site-packages)\n"
     ]
    }
   ],
   "source": [
    "%pip install wheel pyspark --user"
   ]
  },
  {
   "cell_type": "code",
   "execution_count": 2,
   "metadata": {},
   "outputs": [],
   "source": [
    "import pyspark as spark\n",
    "import pandas as pd"
   ]
  },
  {
   "cell_type": "code",
   "execution_count": 3,
   "metadata": {},
   "outputs": [
    {
     "data": {
      "text/html": [
       "<div>\n",
       "<style scoped>\n",
       "    .dataframe tbody tr th:only-of-type {\n",
       "        vertical-align: middle;\n",
       "    }\n",
       "\n",
       "    .dataframe tbody tr th {\n",
       "        vertical-align: top;\n",
       "    }\n",
       "\n",
       "    .dataframe thead th {\n",
       "        text-align: right;\n",
       "    }\n",
       "</style>\n",
       "<table border=\"1\" class=\"dataframe\">\n",
       "  <thead>\n",
       "    <tr style=\"text-align: right;\">\n",
       "      <th></th>\n",
       "      <th>Unnamed: 0</th>\n",
       "      <th>subreddit</th>\n",
       "      <th>unique_id</th>\n",
       "      <th>title</th>\n",
       "      <th>selftext</th>\n",
       "      <th>upvote_ratio</th>\n",
       "      <th>upvote</th>\n",
       "      <th>downvote</th>\n",
       "      <th>score</th>\n",
       "      <th>num_comments</th>\n",
       "    </tr>\n",
       "  </thead>\n",
       "  <tbody>\n",
       "    <tr>\n",
       "      <th>0</th>\n",
       "      <td>0</td>\n",
       "      <td>wallstreetbets</td>\n",
       "      <td>t3_10sv3v5</td>\n",
       "      <td>Weekend Discussion Thread for the Weekend of F...</td>\n",
       "      <td>**Watch WallStreetBets discuss markets on[](ht...</td>\n",
       "      <td>0.89</td>\n",
       "      <td>144</td>\n",
       "      <td>0</td>\n",
       "      <td>144</td>\n",
       "      <td>12716</td>\n",
       "    </tr>\n",
       "    <tr>\n",
       "      <th>1</th>\n",
       "      <td>1</td>\n",
       "      <td>wallstreetbets</td>\n",
       "      <td>t3_10sa9re</td>\n",
       "      <td>When new “expert” regards try to convince vete...</td>\n",
       "      <td>NaN</td>\n",
       "      <td>0.94</td>\n",
       "      <td>47</td>\n",
       "      <td>0</td>\n",
       "      <td>47</td>\n",
       "      <td>10</td>\n",
       "    </tr>\n",
       "    <tr>\n",
       "      <th>2</th>\n",
       "      <td>2</td>\n",
       "      <td>wallstreetbets</td>\n",
       "      <td>t3_10tq74h</td>\n",
       "      <td>If u ever feel dumb, know that this exists</td>\n",
       "      <td>NaN</td>\n",
       "      <td>0.95</td>\n",
       "      <td>6823</td>\n",
       "      <td>0</td>\n",
       "      <td>6823</td>\n",
       "      <td>600</td>\n",
       "    </tr>\n",
       "    <tr>\n",
       "      <th>3</th>\n",
       "      <td>3</td>\n",
       "      <td>wallstreetbets</td>\n",
       "      <td>t3_10tlc85</td>\n",
       "      <td>Actual footage of bulls next week</td>\n",
       "      <td>NaN</td>\n",
       "      <td>0.97</td>\n",
       "      <td>8698</td>\n",
       "      <td>0</td>\n",
       "      <td>8698</td>\n",
       "      <td>183</td>\n",
       "    </tr>\n",
       "    <tr>\n",
       "      <th>4</th>\n",
       "      <td>4</td>\n",
       "      <td>wallstreetbets</td>\n",
       "      <td>t3_10to2iy</td>\n",
       "      <td>when you realized you screwed up</td>\n",
       "      <td>NaN</td>\n",
       "      <td>0.87</td>\n",
       "      <td>1138</td>\n",
       "      <td>0</td>\n",
       "      <td>1138</td>\n",
       "      <td>182</td>\n",
       "    </tr>\n",
       "    <tr>\n",
       "      <th>...</th>\n",
       "      <td>...</td>\n",
       "      <td>...</td>\n",
       "      <td>...</td>\n",
       "      <td>...</td>\n",
       "      <td>...</td>\n",
       "      <td>...</td>\n",
       "      <td>...</td>\n",
       "      <td>...</td>\n",
       "      <td>...</td>\n",
       "      <td>...</td>\n",
       "    </tr>\n",
       "    <tr>\n",
       "      <th>97</th>\n",
       "      <td>97</td>\n",
       "      <td>wallstreetbets</td>\n",
       "      <td>t3_10sg972</td>\n",
       "      <td>No recession proof?</td>\n",
       "      <td>NaN</td>\n",
       "      <td>0.94</td>\n",
       "      <td>158</td>\n",
       "      <td>0</td>\n",
       "      <td>158</td>\n",
       "      <td>66</td>\n",
       "    </tr>\n",
       "    <tr>\n",
       "      <th>98</th>\n",
       "      <td>98</td>\n",
       "      <td>wallstreetbets</td>\n",
       "      <td>t3_10sqhrs</td>\n",
       "      <td>Yeeeeeeeeee</td>\n",
       "      <td>NaN</td>\n",
       "      <td>0.89</td>\n",
       "      <td>33</td>\n",
       "      <td>0</td>\n",
       "      <td>33</td>\n",
       "      <td>10</td>\n",
       "    </tr>\n",
       "    <tr>\n",
       "      <th>99</th>\n",
       "      <td>99</td>\n",
       "      <td>wallstreetbets</td>\n",
       "      <td>t3_10sxsl0</td>\n",
       "      <td>Down 50k, up 24k on the week though. Yolo put ...</td>\n",
       "      <td>Lets see how this goes.  Confident market will...</td>\n",
       "      <td>0.81</td>\n",
       "      <td>13</td>\n",
       "      <td>0</td>\n",
       "      <td>13</td>\n",
       "      <td>21</td>\n",
       "    </tr>\n",
       "    <tr>\n",
       "      <th>100</th>\n",
       "      <td>100</td>\n",
       "      <td>wallstreetbets</td>\n",
       "      <td>t3_10svjql</td>\n",
       "      <td>Macro Concerns for Mr. Market</td>\n",
       "      <td>Going into next week as we (everybody but me, ...</td>\n",
       "      <td>0.89</td>\n",
       "      <td>15</td>\n",
       "      <td>0</td>\n",
       "      <td>15</td>\n",
       "      <td>11</td>\n",
       "    </tr>\n",
       "    <tr>\n",
       "      <th>101</th>\n",
       "      <td>101</td>\n",
       "      <td>wallstreetbets</td>\n",
       "      <td>t3_10rwl5e</td>\n",
       "      <td>44k AAPL Short</td>\n",
       "      <td>NaN</td>\n",
       "      <td>0.95</td>\n",
       "      <td>2146</td>\n",
       "      <td>0</td>\n",
       "      <td>2146</td>\n",
       "      <td>842</td>\n",
       "    </tr>\n",
       "  </tbody>\n",
       "</table>\n",
       "<p>102 rows × 10 columns</p>\n",
       "</div>"
      ],
      "text/plain": [
       "     Unnamed: 0       subreddit   unique_id  \\\n",
       "0             0  wallstreetbets  t3_10sv3v5   \n",
       "1             1  wallstreetbets  t3_10sa9re   \n",
       "2             2  wallstreetbets  t3_10tq74h   \n",
       "3             3  wallstreetbets  t3_10tlc85   \n",
       "4             4  wallstreetbets  t3_10to2iy   \n",
       "..          ...             ...         ...   \n",
       "97           97  wallstreetbets  t3_10sg972   \n",
       "98           98  wallstreetbets  t3_10sqhrs   \n",
       "99           99  wallstreetbets  t3_10sxsl0   \n",
       "100         100  wallstreetbets  t3_10svjql   \n",
       "101         101  wallstreetbets  t3_10rwl5e   \n",
       "\n",
       "                                                 title  \\\n",
       "0    Weekend Discussion Thread for the Weekend of F...   \n",
       "1    When new “expert” regards try to convince vete...   \n",
       "2           If u ever feel dumb, know that this exists   \n",
       "3                    Actual footage of bulls next week   \n",
       "4                     when you realized you screwed up   \n",
       "..                                                 ...   \n",
       "97                                 No recession proof?   \n",
       "98                                         Yeeeeeeeeee   \n",
       "99   Down 50k, up 24k on the week though. Yolo put ...   \n",
       "100                      Macro Concerns for Mr. Market   \n",
       "101                                     44k AAPL Short   \n",
       "\n",
       "                                              selftext  upvote_ratio  upvote  \\\n",
       "0    **Watch WallStreetBets discuss markets on[](ht...          0.89     144   \n",
       "1                                                  NaN          0.94      47   \n",
       "2                                                  NaN          0.95    6823   \n",
       "3                                                  NaN          0.97    8698   \n",
       "4                                                  NaN          0.87    1138   \n",
       "..                                                 ...           ...     ...   \n",
       "97                                                 NaN          0.94     158   \n",
       "98                                                 NaN          0.89      33   \n",
       "99   Lets see how this goes.  Confident market will...          0.81      13   \n",
       "100  Going into next week as we (everybody but me, ...          0.89      15   \n",
       "101                                                NaN          0.95    2146   \n",
       "\n",
       "     downvote  score  num_comments  \n",
       "0           0    144         12716  \n",
       "1           0     47            10  \n",
       "2           0   6823           600  \n",
       "3           0   8698           183  \n",
       "4           0   1138           182  \n",
       "..        ...    ...           ...  \n",
       "97          0    158            66  \n",
       "98          0     33            10  \n",
       "99          0     13            21  \n",
       "100         0     15            11  \n",
       "101         0   2146           842  \n",
       "\n",
       "[102 rows x 10 columns]"
      ]
     },
     "execution_count": 3,
     "metadata": {},
     "output_type": "execute_result"
    }
   ],
   "source": [
    "pd.read_csv(r'wsb_2023-02-05.csv')"
   ]
  },
  {
   "cell_type": "code",
   "execution_count": 4,
   "metadata": {},
   "outputs": [],
   "source": [
    "#Spark Session whenever you use Spark\n",
    "from pyspark.sql import SparkSession"
   ]
  },
  {
   "cell_type": "code",
   "execution_count": 5,
   "metadata": {},
   "outputs": [],
   "source": [
    "spark = SparkSession.builder.master(\"local\").appName(\"Test\").getOrCreate()"
   ]
  },
  {
   "cell_type": "code",
   "execution_count": 6,
   "metadata": {},
   "outputs": [],
   "source": [
    "df_pyspark = spark.read.option('header','true').csv(r\"wsb_2023-02-05.csv\")"
   ]
  },
  {
   "cell_type": "code",
   "execution_count": 7,
   "metadata": {},
   "outputs": [
    {
     "data": {
      "text/plain": [
       "Row(_c0='0', subreddit='wallstreetbets', unique_id='t3_10sv3v5', title='Weekend Discussion Thread for the Weekend of February 04, 2023', selftext='**Watch WallStreetBets discuss markets on[](https://twitter.com/Official_WSB) [Twitch](https://twitch.tv/wsbverse) and [YouTube](https://www.youtube.com/channel/UCRPCE1kzX-JHzcAHfPSs87Q?sub_confirmation=1)**', upvote_ratio=None, upvote=None, downvote=None, score=None, num_comments=None)"
      ]
     },
     "execution_count": 7,
     "metadata": {},
     "output_type": "execute_result"
    }
   ],
   "source": [
    "df_pyspark.head()"
   ]
  },
  {
   "cell_type": "code",
   "execution_count": 8,
   "metadata": {},
   "outputs": [
    {
     "name": "stdout",
     "output_type": "stream",
     "text": [
      "+--------------------+--------------------+--------------------+--------------------+--------------------+--------------------+--------------------+--------+-----+------------+\n",
      "|                 _c0|           subreddit|           unique_id|               title|            selftext|        upvote_ratio|              upvote|downvote|score|num_comments|\n",
      "+--------------------+--------------------+--------------------+--------------------+--------------------+--------------------+--------------------+--------+-----+------------+\n",
      "|                   0|      wallstreetbets|          t3_10sv3v5|Weekend Discussio...|**Watch WallStree...|                null|                null|    null| null|        null|\n",
      "|Follow [Twitter](...| join [Discord](h...| play [ban bets](...|                null|                null|                null|                null|    null| null|        null|\n",
      "|Check out last we...|                0.89|                 144|                   0|                 144|               12716|                null|    null| null|        null|\n",
      "|                   1|      wallstreetbets|          t3_10sa9re|When new “expert”...|                null|                0.94|                  47|       0|   47|          10|\n",
      "|                   2|      wallstreetbets|          t3_10tq74h|If u ever feel du...|                null|                0.95|                6823|       0| 6823|         600|\n",
      "|                   3|      wallstreetbets|          t3_10tlc85|Actual footage of...|                null|                0.97|                8698|       0| 8698|         183|\n",
      "|                   4|      wallstreetbets|          t3_10to2iy|when you realized...|                null|                0.87|                1138|       0| 1138|         182|\n",
      "|                   5|      wallstreetbets|          t3_10tkroy| AMZN 37k -&gt; 137k|AMZN 85C 17FEB23 ...|                null|                null|    null| null|        null|\n",
      "|History: https://...|                0.94|                1304|                   0|                1304|                 108|                null|    null| null|        null|\n",
      "|                   6|      wallstreetbets|          t3_10tybzm|    A Fellow Regard?|                null|                0.94|                 131|       0|  131|          33|\n",
      "|                   7|      wallstreetbets|          t3_10t3aw1|My brother rang t...|                null|                0.86|               19271|       0|19271|        1526|\n",
      "|                   8|      wallstreetbets|          t3_10tf4i2|Blew up my accoun...|                null|                0.94|                1422|       0| 1422|         600|\n",
      "|                   9|      wallstreetbets|          t3_10toqua|The Castle on the...|                    |                null|                null|    null| null|        null|\n",
      "|***TLDR: Kenneth ...| high-frequency t...| or by taking adv...|                null|                null|                null|                null|    null| null|        null|\n",
      "|         **PREFACE**|                null|                null|                null|                null|                null|                null|    null| null|        null|\n",
      "|Since the origina...| countless invest...| these strategies...| find a business ...| take your own ha...| after years of d...| reap the rewards...|    null| null|        null|\n",
      "|      I believe that|       at their core| stock markets ar...| a stock market i...| markets and exch...|                null|                null|    null| null|        null|\n",
      "|      At their worst| they are vehicle...| the ticker takes...|                null|                null|                null|                null|    null| null|        null|\n",
      "|I believe that th...| I'll still inclu...|                null|                null|                null|                null|                null|    null| null|        null|\n",
      "|             In 1990| a man named Kenn...|                null|                null|                null|                null|                null|    null| null|        null|\n",
      "+--------------------+--------------------+--------------------+--------------------+--------------------+--------------------+--------------------+--------+-----+------------+\n",
      "only showing top 20 rows\n",
      "\n"
     ]
    }
   ],
   "source": [
    "df_pyspark.show()"
   ]
  },
  {
   "cell_type": "code",
   "execution_count": 9,
   "metadata": {},
   "outputs": [
    {
     "data": {
      "text/plain": [
       "pyspark.sql.dataframe.DataFrame"
      ]
     },
     "execution_count": 9,
     "metadata": {},
     "output_type": "execute_result"
    }
   ],
   "source": [
    "type(df_pyspark)"
   ]
  },
  {
   "cell_type": "code",
   "execution_count": 10,
   "metadata": {},
   "outputs": [
    {
     "name": "stdout",
     "output_type": "stream",
     "text": [
      "root\n",
      " |-- _c0: string (nullable = true)\n",
      " |-- subreddit: string (nullable = true)\n",
      " |-- unique_id: string (nullable = true)\n",
      " |-- title: string (nullable = true)\n",
      " |-- selftext: string (nullable = true)\n",
      " |-- upvote_ratio: string (nullable = true)\n",
      " |-- upvote: string (nullable = true)\n",
      " |-- downvote: string (nullable = true)\n",
      " |-- score: string (nullable = true)\n",
      " |-- num_comments: string (nullable = true)\n",
      "\n"
     ]
    }
   ],
   "source": [
    "df_pyspark.printSchema()"
   ]
  },
  {
   "cell_type": "code",
   "execution_count": null,
   "metadata": {},
   "outputs": [],
   "source": []
  }
 ],
 "metadata": {
  "kernelspec": {
   "display_name": "Python 3",
   "language": "python",
   "name": "python3"
  },
  "language_info": {
   "codemirror_mode": {
    "name": "ipython",
    "version": 3
   },
   "file_extension": ".py",
   "mimetype": "text/x-python",
   "name": "python",
   "nbconvert_exporter": "python",
   "pygments_lexer": "ipython3",
   "version": "3.10.0"
  },
  "orig_nbformat": 4,
  "vscode": {
   "interpreter": {
    "hash": "369f2c481f4da34e4445cda3fffd2e751bd1c4d706f27375911949ba6bb62e1c"
   }
  }
 },
 "nbformat": 4,
 "nbformat_minor": 2
}
